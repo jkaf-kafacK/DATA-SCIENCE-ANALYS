{
 "cells": [
  {
   "cell_type": "markdown",
   "metadata": {},
   "source": [
    "<center>\n",
    "    <img src=\"https://cf-courses-data.s3.us.cloud-object-storage.appdomain.cloud/IBMDeveloperSkillsNetwork-DS0105EN-SkillsNetwork/labs/Module2/images/SN_web_lightmode.png\" width=\"300\" alt=\"cognitiveclass.ai logo\">\n",
    "</center>\n"
   ]
  },
  {
   "cell_type": "markdown",
   "metadata": {},
   "source": [
    "#### Exercise 2 - Create a markdown cell with the title of the notebook.\n",
    "# Peer-graded Assignment: Submit my Work.\n"
   ]
  },
  {
   "cell_type": "markdown",
   "metadata": {},
   "source": [
    "### Exercise 3 - Create a markdown cell for an introduction.\n",
    "## Introduction\n",
    "### This course introduced you to multiple data science tools, and in this final project, i will use Jupyterlite Notebook, afterward i go to share my work in Github "
   ]
  },
  {
   "cell_type": "markdown",
   "metadata": {},
   "source": [
    "### Exercise 4- Create a markdown cell to list data science languages.\n",
    "1. Python\n",
    "2. R\n",
    "3. SQL\n",
    "4. Julia\n",
    "5. C++\n",
    "6. JavaScript\n",
    "7. Scala\n",
    "8. PHP, Go, Ruby,"
   ]
  },
  {
   "cell_type": "markdown",
   "metadata": {},
   "source": [
    "### Exercise 5 - Create a markdown cell to list data science libraries.\n",
    "- pandas, numpy,dplyr, dataFrames,scipy,sympy,Hadoop (Data Manipulation & Analysis)\n",
    "- matplotlib, seaborn, plotly, bokeh,ggplot2,plots.jl (Data Visualization)\n",
    "- scikit-learn,tensorflow,keras,pytorch (machile Learning annd Deep Learning)"
   ]
  },
  {
   "cell_type": "markdown",
   "metadata": {},
   "source": [
    "### Exercise 6 - Create a markdown cell with a table of Data Science tools.\n",
    "| Category | tools    |\n",
    "|----------|----------|\n",
    "| Source | Twitter, Flipkart, Media, Sensors |\n",
    "| Databases\t|  PostgreSQL / MySQL, MongoDB\tNoSQL,SQLite|\n",
    "| Big Data & Storage | Hadoop HDFS, Hive, Amazon3 IBM watson Studio |\n",
    "| Programming languages   |  Python,R, Julia,SQL,C++   |\n",
    "| Data Manipulation    | Pandas,dplyr,Apache Spark,Hive   |\n",
    "| Visualization    | Matplotlib,Seaborn,plotly, Power BI,Tableau |\n",
    "| Machine Learning     | IBM Watson,scikit-learn,IBM AI Explainability 360|\n",
    "| Deep Learning  | Tensorflow,Keras,Pytorch,Jax, Apache Airflow|\n",
    "| Deployment | Fiddler,Docker, Kubernetes,ModelDB,Prometheus|\n",
    "| Cloud Platforms | Microsoft Azure,AWS\t|\n",
    "| Collaboration/code assets | Git, GitHub, GitLab and Bitbucket"
   ]
  },
  {
   "cell_type": "markdown",
   "metadata": {},
   "source": [
    "### Exercise 7 - Create a markdown cell introducing arithmetic expression examples:\n",
    "### (3 + 3) * 2 = 12 ; 3 + 3 * 2 = 18"
   ]
  },
  {
   "cell_type": "markdown",
   "metadata": {},
   "source": [
    "#####  arithmetic expression examples"
   ]
  },
  {
   "cell_type": "code",
   "execution_count": 10,
   "metadata": {},
   "outputs": [
    {
     "data": {
      "text/plain": [
       "12"
      ]
     },
     "execution_count": 10,
     "metadata": {},
     "output_type": "execute_result"
    }
   ],
   "source": [
    "(3 + 3) * 2"
   ]
  },
  {
   "cell_type": "markdown",
   "metadata": {},
   "source": [
    "#### Minutes in Hour\n",
    "#### 90 min = 1h30"
   ]
  },
  {
   "cell_type": "code",
   "execution_count": 8,
   "metadata": {},
   "outputs": [
    {
     "data": {
      "text/plain": [
       "1.5"
      ]
     },
     "execution_count": 8,
     "metadata": {},
     "output_type": "execute_result"
    }
   ],
   "source": [
    "90/60  # 90 minutes/1 hour"
   ]
  },
  {
   "cell_type": "markdown",
   "metadata": {},
   "source": [
    "### Exercise 10 -Insert a markdown cell to list Objectives.\n",
    "1. Specializzazione IBM Data Science\n",
    "2. Tools for Data Science\n",
    "3. Data Science Methodology\n",
    "4. Python for Data Science, AI & Development\n",
    "5. Databases and SQL for Data Science with Python\n",
    "6. Applied Data Science Capstone\n",
    "7. Generative AI: Elevate Your Data Science Career\n",
    "8. Data Scientist Career Guide and Interview Preparation"
   ]
  },
  {
   "cell_type": "markdown",
   "metadata": {},
   "source": [
    "## JACQUES CHIRAC KAFACK"
   ]
  },
  {
   "cell_type": "code",
   "execution_count": null,
   "metadata": {},
   "outputs": [],
   "source": []
  }
 ],
 "metadata": {
  "kernelspec": {
   "display_name": "Python 3 (ipykernel)",
   "language": "python",
   "name": "python3"
  },
  "language_info": {
   "codemirror_mode": {
    "name": "ipython",
    "version": 3
   },
   "file_extension": ".py",
   "mimetype": "text/x-python",
   "name": "python",
   "nbconvert_exporter": "python",
   "pygments_lexer": "ipython3",
   "version": "3.12.8"
  }
 },
 "nbformat": 4,
 "nbformat_minor": 4
}
